{
 "cells": [
  {
   "cell_type": "code",
   "execution_count": null,
   "id": "3189ef31",
   "metadata": {},
   "outputs": [],
   "source": [
    "%run 'Metis 5 NLP.ipynb'"
   ]
  },
  {
   "cell_type": "code",
   "execution_count": null,
   "id": "fa1ebe40",
   "metadata": {},
   "outputs": [],
   "source": [
    "#Functions: \n",
    "# cluster_tweet(str)   ; returns dictionary\n",
    "# pick_random_tweet()  ; returns str\n",
    "# get_tweet_index(int) ; returns str"
   ]
  },
  {
   "cell_type": "code",
   "execution_count": null,
   "id": "2a06a089",
   "metadata": {},
   "outputs": [],
   "source": [
    "cluster_tweet(pick_random_tweet())"
   ]
  },
  {
   "cell_type": "code",
   "execution_count": null,
   "id": "8444c0da",
   "metadata": {},
   "outputs": [],
   "source": [
    "pick_random_tweet()"
   ]
  },
  {
   "cell_type": "code",
   "execution_count": null,
   "id": "1e805fc7",
   "metadata": {},
   "outputs": [],
   "source": [
    "get_tweet_index(98)"
   ]
  },
  {
   "cell_type": "code",
   "execution_count": null,
   "id": "e8bde739",
   "metadata": {},
   "outputs": [],
   "source": []
  },
  {
   "cell_type": "code",
   "execution_count": null,
   "id": "42e7da92",
   "metadata": {},
   "outputs": [],
   "source": []
  }
 ],
 "metadata": {
  "kernelspec": {
   "display_name": "Python [conda env:metis] *",
   "language": "python",
   "name": "conda-env-metis-py"
  },
  "language_info": {
   "codemirror_mode": {
    "name": "ipython",
    "version": 3
   },
   "file_extension": ".py",
   "mimetype": "text/x-python",
   "name": "python",
   "nbconvert_exporter": "python",
   "pygments_lexer": "ipython3",
   "version": "3.8.10"
  }
 },
 "nbformat": 4,
 "nbformat_minor": 5
}
