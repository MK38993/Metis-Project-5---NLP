{
 "cells": [
  {
   "cell_type": "code",
   "execution_count": null,
   "id": "170f5646",
   "metadata": {},
   "outputs": [],
   "source": [
    "%run 'Metis 5 NLP.ipynb'"
   ]
  },
  {
   "cell_type": "code",
   "execution_count": null,
   "id": "9380138e",
   "metadata": {},
   "outputs": [],
   "source": [
    "#Functions: \n",
    "# cluster_tweet(str)   ; returns dictionary - percent chance that the sentence belongs in each cluster\n",
    "# pick_random_tweet()  ; returns str\n",
    "# get_tweet_index(int) ; returns str"
   ]
  },
  {
   "cell_type": "code",
   "execution_count": null,
   "id": "edd7d7ed",
   "metadata": {},
   "outputs": [],
   "source": [
    "cluster_tweet(pick_random_tweet())"
   ]
  },
  {
   "cell_type": "code",
   "execution_count": null,
   "id": "8099be7f",
   "metadata": {},
   "outputs": [],
   "source": [
    "pick_random_tweet()"
   ]
  },
  {
   "cell_type": "code",
   "execution_count": null,
   "id": "72e89cd5",
   "metadata": {
    "scrolled": true
   },
   "outputs": [],
   "source": [
    "get_tweet_index(34)"
   ]
  },
  {
   "cell_type": "code",
   "execution_count": null,
   "id": "04289355",
   "metadata": {},
   "outputs": [],
   "source": [
    "# Show list of topics\n",
    "xtffn1"
   ]
  },
  {
   "cell_type": "code",
   "execution_count": null,
   "id": "a005ac97",
   "metadata": {},
   "outputs": [],
   "source": [
    "# For a more technical look, show the model's topic matrix.\n",
    "topic_matrix1"
   ]
  },
  {
   "cell_type": "code",
   "execution_count": null,
   "id": "07bc54d8",
   "metadata": {},
   "outputs": [],
   "source": []
  }
 ],
 "metadata": {
  "kernelspec": {
   "display_name": "Python [conda env:metis] *",
   "language": "python",
   "name": "conda-env-metis-py"
  },
  "language_info": {
   "codemirror_mode": {
    "name": "ipython",
    "version": 3
   },
   "file_extension": ".py",
   "mimetype": "text/x-python",
   "name": "python",
   "nbconvert_exporter": "python",
   "pygments_lexer": "ipython3",
   "version": "3.8.10"
  }
 },
 "nbformat": 4,
 "nbformat_minor": 5
}
